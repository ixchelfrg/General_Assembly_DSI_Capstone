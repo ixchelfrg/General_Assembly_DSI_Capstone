{
 "cells": [
  {
   "cell_type": "markdown",
   "metadata": {},
   "source": [
    "#### Imports"
   ]
  },
  {
   "cell_type": "code",
   "execution_count": 1,
   "metadata": {},
   "outputs": [],
   "source": [
    "import numpy as np\n",
    "import pandas as pd\n",
    "import json\n",
    "import time\n",
    "import math\n",
    "import requests\n",
    "import itertools\n",
    "from datetime import datetime, timedelta\n",
    "import praw"
   ]
  },
  {
   "cell_type": "markdown",
   "metadata": {},
   "source": [
    "#### Praw Keys"
   ]
  },
  {
   "cell_type": "code",
   "execution_count": 2,
   "metadata": {},
   "outputs": [],
   "source": [
    "config = {\n",
    "    \"username\"      : \"ixchelfrg\",\n",
    "    \"client_id\"     : \"Toq58hLTqLD4Ow\",\n",
    "    \"client_secret\" : \"hnPMxiwcVh5W9JSO8qyLLhrMTKc\",\n",
    "    \"user_agent\"    : \"ixchel\"\n",
    "}\n",
    "\n",
    "posts_from_reddit = []\n",
    "comments_from_reddit = []\n",
    "\n",
    "reddit = praw.Reddit(client_id = config['client_id'], \\\n",
    "                     client_secret = config['client_secret'], \\\n",
    "                     user_agent = config['user_agent'])\n"
   ]
  },
  {
   "cell_type": "markdown",
   "metadata": {},
   "source": [
    "#### Extracting all posts and comments for subreddit `r/QuantifiedSelf`."
   ]
  },
  {
   "cell_type": "code",
   "execution_count": 3,
   "metadata": {
    "code_folding": []
   },
   "outputs": [],
   "source": [
    "# Code from https://medium.com/@pasdan/how-to-scrap-reddit-using-pushshift-io-via-python-a3ebcc9b83f4\n",
    "# https://github.com/ixchelfrg/sack_lunch/blob/master/Notebooks/Bots/Reddit.ipynb\n",
    "\n",
    "# Code creates intervals by iterating through code to make multiple requests to Reddit, and extract posts going back to a specific amount of days.\n",
    "\n",
    "# Method for building time period searches, in days.\n",
    "def give_me_intervals(start_at, number_of_days_per_interval = 3):\n",
    "    \n",
    "    end_at = math.ceil(datetime.utcnow().timestamp())\n",
    "        \n",
    "    # 1 day = 86400,\n",
    "    # Seconds times number of days specified.\n",
    "    period = (86400 * number_of_days_per_interval)\n",
    "    \n",
    "    # Create end of while loop from \"start_at\" argument given and \"period\" calculated above.\n",
    "    end = start_at + period\n",
    "    yield (int(start_at), int(end))\n",
    "\n",
    "    # Move the needle of time after each iteration.\n",
    "    padding = 1\n",
    "    while end <= end_at:\n",
    "        start_at = end + padding\n",
    "        end = (start_at - padding) + period\n",
    "        yield int(start_at), int(end)\n",
    "\n",
    "# Method that takes in a URI and handles the HTTP request/response. \n",
    "def make_request(uri, max_retries = 5):\n",
    "    def fire_away(uri):\n",
    "        response = requests.get(uri)\n",
    "        assert response.status_code == 200\n",
    "        return json.loads(response.content)\n",
    "\n",
    "# If request fails, wait specified time and retry.\n",
    "# 5 tries before code stops. \n",
    "    current_tries = 1\n",
    "    while current_tries < max_retries:\n",
    "        try:\n",
    "            response = fire_away(uri)\n",
    "            return response\n",
    "        except:\n",
    "            time.sleep(.150)\n",
    "            current_tries += 1\n",
    "\n",
    "    return fire_away(uri)\n",
    " \n",
    "# Extract posts.\n",
    "# If it extracts 500 posts, code checks to see if more exist.\n",
    "def pull_posts_for(subreddit, start_at, end_at):\n",
    "    \n",
    "    def map_posts(posts):\n",
    "        return list(map(lambda post: {\n",
    "            'id': post['id'],\n",
    "            'created_utc': post['created_utc'],\n",
    "            'prefix': 't4_'\n",
    "        }, posts))\n",
    "    \n",
    "    SIZE = 500\n",
    "    URI_TEMPLATE = r'https://api.pushshift.io/reddit/search/submission?subreddit={}&after={}&before={}&size={}'\n",
    "    \n",
    "    post_collections = map_posts( \\\n",
    "        make_request( \\\n",
    "            URI_TEMPLATE.format(subreddit, start_at, end_at, SIZE))['data'])\n",
    "\n",
    "    n = len(post_collections)\n",
    "    while n == SIZE:\n",
    "        last = post_collections[-1]\n",
    "        new_start_at = last['created_utc'] - 10\n",
    "        \n",
    "        more_posts = map_posts( \\\n",
    "            make_request( \\\n",
    "                URI_TEMPLATE.format(subreddit, new_start_at, end_at, SIZE))['data'])\n",
    "        \n",
    "        n = len(more_posts)\n",
    "        # Posts added to \"post_collections\"\n",
    "        post_collections.extend(more_posts)\n",
    "\n",
    "    return post_collections"
   ]
  },
  {
   "cell_type": "code",
   "execution_count": 4,
   "metadata": {},
   "outputs": [
    {
     "name": "stdout",
     "output_type": "stream",
     "text": [
      "Posts Found: 1403\n",
      "Number of Unique Posts: 1403\n"
     ]
    }
   ],
   "source": [
    "# Use of above functions to extract posts from QuantifiedSelf subreddit for 3,000 days.\n",
    "# https://github.com/ixchelfrg/sack_lunch/blob/master/Notebooks/Bots/Reddit.ipynb\n",
    "subreddit = 'QuantifiedSelf'\n",
    "\n",
    "start_at = math.floor(\\\n",
    "    (datetime.utcnow() - timedelta(days=3000)).timestamp())\n",
    "\n",
    "posts = []\n",
    "for interval in give_me_intervals(start_at, 7):\n",
    "    pulled_posts = pull_posts_for(\n",
    "        subreddit, interval[0], interval[1])\n",
    "    \n",
    "    posts.extend(pulled_posts)\n",
    "\n",
    "print('Posts Found:', len(posts))\n",
    "print('Number of Unique Posts:', len(np.unique([ post['id'] for post in posts ])))"
   ]
  },
  {
   "cell_type": "code",
   "execution_count": 5,
   "metadata": {},
   "outputs": [
    {
     "name": "stdout",
     "output_type": "stream",
     "text": [
      "Length of \"posts_from_reddit\" list: 1403\n",
      "Length of \"comments_from_reddit\" list: 3483\n"
     ]
    }
   ],
   "source": [
    "# Extract submissions and comments from posts.\n",
    "# https://github.com/ixchelfrg/sack_lunch/blob/master/Notebooks/Bots/Reddit.ipynb\n",
    "\n",
    "TIMEOUT_AFTER_COMMENT_IN_SECS = .250\n",
    "\n",
    "for submission_id in np.unique([ post['id'] for post in posts ]):\n",
    "    submission = reddit.submission(id=submission_id)\n",
    "\n",
    "    posts_from_reddit.append(submission)\n",
    "\n",
    "    submission.comments.replace_more(limit=None)\n",
    "    for comment in submission.comments.list():\n",
    "        comments_from_reddit.append(comment)\n",
    "        \n",
    "        if TIMEOUT_AFTER_COMMENT_IN_SECS > 0:\n",
    "            time.sleep(TIMEOUT_AFTER_COMMENT_IN_SECS)\n",
    "\n",
    "print('Length of \"posts_from_reddit\" list: {}'.format(len(posts_from_reddit)))\n",
    "print('Length of \"comments_from_reddit\" list: {}'.format(len(comments_from_reddit)))"
   ]
  },
  {
   "cell_type": "code",
   "execution_count": 6,
   "metadata": {},
   "outputs": [
    {
     "name": "stdout",
     "output_type": "stream",
     "text": [
      "Length of list: 1403\n",
      "1306692867.0 (index 0) to 1557962482.0 (index -1)\n"
     ]
    }
   ],
   "source": [
    "# To check range of time for posts pulled.\n",
    "epoch_times = []\n",
    "for i in range(len(posts_from_reddit)):\n",
    "    epoch_times.append(vars(posts_from_reddit[i])['created_utc'])\n",
    "    \n",
    "print('Length of list: {}'.format(len(epoch_times)))\n",
    "epoch_times.sort()\n",
    "\n",
    "print('{} (index 0) to {} (index -1)'.format(epoch_times[0], epoch_times[-1]))"
   ]
  },
  {
   "cell_type": "markdown",
   "metadata": {},
   "source": [
    "***Using [EpochConverter](https://www.epochconverter.com/) :***\n",
    "\n",
    "`Posts are from Sunday May 29, 2011 to Wednesday May 15, 2019.`"
   ]
  },
  {
   "cell_type": "markdown",
   "metadata": {},
   "source": [
    "#### Extracting more granular data from submissions stored in `posts_from_reddit`."
   ]
  },
  {
   "cell_type": "code",
   "execution_count": 7,
   "metadata": {},
   "outputs": [],
   "source": [
    "# Lists containing data from \"posts_from_reddit\"\n",
    "authors = []\n",
    "sub_comments = []\n",
    "created_utcs = []\n",
    "ids = []\n",
    "is_self_bools = []\n",
    "names = []\n",
    "num_cmts = []\n",
    "permalinks = []\n",
    "scores = []\n",
    "selftexts = []\n",
    "subreddits = []\n",
    "titles = []\n",
    "num_ups = []\n",
    "upvote_ratios = []\n",
    "urls = []\n",
    "domains = []\n",
    "comments_by_id = []\n",
    "comments_ids = []\n",
    "\n",
    "# Subtracting information from \"posts_from_reddit\" to store in dataframe.\n",
    "for post in posts_from_reddit:\n",
    "    authors.append(post.author)\n",
    "    sub_comments.append(post.comments)\n",
    "    created_utcs.append(post.created_utc)\n",
    "    ids.append(post.id)\n",
    "    is_self_bools.append(post.is_self)\n",
    "    names.append(post.name)\n",
    "    num_cmts.append(post.num_comments)\n",
    "    permalinks.append(post.permalink)\n",
    "    scores.append(post.score)\n",
    "    selftexts.append(post.selftext)\n",
    "    subreddits.append(post.subreddit)\n",
    "    titles.append(post.title)\n",
    "    num_ups.append(post.ups)\n",
    "    upvote_ratios.append(post.upvote_ratio)\n",
    "    urls.append(post.url)\n",
    "    domains.append(post.domain)\n",
    "    comments_by_id.append(post._comments_by_id)\n",
    "    comments_ids.append(post._comments)"
   ]
  },
  {
   "cell_type": "markdown",
   "metadata": {},
   "source": [
    "#### Storing submission data in a dataframe."
   ]
  },
  {
   "cell_type": "code",
   "execution_count": 8,
   "metadata": {},
   "outputs": [
    {
     "name": "stdout",
     "output_type": "stream",
     "text": [
      "Dataframe of subreddit submissions has 1403 rows and 16 columns.\n"
     ]
    },
    {
     "data": {
      "text/html": [
       "<div>\n",
       "<style scoped>\n",
       "    .dataframe tbody tr th:only-of-type {\n",
       "        vertical-align: middle;\n",
       "    }\n",
       "\n",
       "    .dataframe tbody tr th {\n",
       "        vertical-align: top;\n",
       "    }\n",
       "\n",
       "    .dataframe thead th {\n",
       "        text-align: right;\n",
       "    }\n",
       "</style>\n",
       "<table border=\"1\" class=\"dataframe\">\n",
       "  <thead>\n",
       "    <tr style=\"text-align: right;\">\n",
       "      <th></th>\n",
       "      <th>0</th>\n",
       "      <th>1</th>\n",
       "      <th>2</th>\n",
       "      <th>3</th>\n",
       "      <th>4</th>\n",
       "      <th>5</th>\n",
       "      <th>6</th>\n",
       "      <th>7</th>\n",
       "      <th>8</th>\n",
       "      <th>9</th>\n",
       "      <th>10</th>\n",
       "      <th>11</th>\n",
       "      <th>12</th>\n",
       "      <th>13</th>\n",
       "      <th>14</th>\n",
       "      <th>15</th>\n",
       "    </tr>\n",
       "  </thead>\n",
       "  <tbody>\n",
       "    <tr>\n",
       "      <th>0</th>\n",
       "      <td>rossmoody</td>\n",
       "      <td>1347918772.0</td>\n",
       "      <td>101m5w</td>\n",
       "      <td>False</td>\n",
       "      <td>t3_101m5w</td>\n",
       "      <td>0</td>\n",
       "      <td>/r/QuantifiedSelf/comments/101m5w/moodpanda_mo...</td>\n",
       "      <td>1</td>\n",
       "      <td></td>\n",
       "      <td>QuantifiedSelf</td>\n",
       "      <td>Moodpanda mood logger blog</td>\n",
       "      <td>1</td>\n",
       "      <td>1.0</td>\n",
       "      <td>http://moodpanda.tumblr.com/</td>\n",
       "      <td>moodpanda.tumblr.com</td>\n",
       "      <td>{}</td>\n",
       "    </tr>\n",
       "    <tr>\n",
       "      <th>1</th>\n",
       "      <td>robweedn</td>\n",
       "      <td>1348770055.0</td>\n",
       "      <td>10kp8t</td>\n",
       "      <td>False</td>\n",
       "      <td>t3_10kp8t</td>\n",
       "      <td>2</td>\n",
       "      <td>/r/QuantifiedSelf/comments/10kp8t/notch_launch...</td>\n",
       "      <td>4</td>\n",
       "      <td></td>\n",
       "      <td>QuantifiedSelf</td>\n",
       "      <td>Notch launches a cool new way to visualize you...</td>\n",
       "      <td>4</td>\n",
       "      <td>0.76</td>\n",
       "      <td>http://techcrunch.com/2012/09/27/with-fitbit-a...</td>\n",
       "      <td>techcrunch.com</td>\n",
       "      <td>{'t1_c6eaf17': Comment(id='c6eaf17'), 't1_c7um...</td>\n",
       "    </tr>\n",
       "  </tbody>\n",
       "</table>\n",
       "</div>"
      ],
      "text/plain": [
       "          0             1       2      3          4  5   \\\n",
       "0  rossmoody  1347918772.0  101m5w  False  t3_101m5w  0   \n",
       "1   robweedn  1348770055.0  10kp8t  False  t3_10kp8t  2   \n",
       "\n",
       "                                                  6  7  8               9   \\\n",
       "0  /r/QuantifiedSelf/comments/101m5w/moodpanda_mo...  1     QuantifiedSelf   \n",
       "1  /r/QuantifiedSelf/comments/10kp8t/notch_launch...  4     QuantifiedSelf   \n",
       "\n",
       "                                                  10 11    12  \\\n",
       "0                         Moodpanda mood logger blog  1   1.0   \n",
       "1  Notch launches a cool new way to visualize you...  4  0.76   \n",
       "\n",
       "                                                  13                    14  \\\n",
       "0                       http://moodpanda.tumblr.com/  moodpanda.tumblr.com   \n",
       "1  http://techcrunch.com/2012/09/27/with-fitbit-a...        techcrunch.com   \n",
       "\n",
       "                                                  15  \n",
       "0                                                 {}  \n",
       "1  {'t1_c6eaf17': Comment(id='c6eaf17'), 't1_c7um...  "
      ]
     },
     "execution_count": 8,
     "metadata": {},
     "output_type": "execute_result"
    }
   ],
   "source": [
    "lsts = [\n",
    "    authors,\n",
    "    created_utcs,\n",
    "    ids,\n",
    "    is_self_bools,\n",
    "    names,\n",
    "    num_cmts,\n",
    "    permalinks,\n",
    "    scores,\n",
    "    selftexts,\n",
    "    subreddits,\n",
    "    titles,\n",
    "    num_ups,\n",
    "    upvote_ratios,\n",
    "    urls,\n",
    "    domains,\n",
    "    comments_by_id,\n",
    "]\n",
    "\n",
    "new_lsts = []\n",
    "for lst in lsts:\n",
    "    new_lsts.append([str(i) for i in lst])\n",
    "\n",
    "subreddit_df = pd.DataFrame(new_lsts).T\n",
    "print('Dataframe of subreddit submissions has {} rows and {} columns.'.format(subreddit_df.shape[0], subreddit_df.shape[1]))\n",
    "subreddit_df.head(2)"
   ]
  },
  {
   "cell_type": "markdown",
   "metadata": {},
   "source": [
    "#### Formatting dataframe of subreddit submissions."
   ]
  },
  {
   "cell_type": "code",
   "execution_count": 9,
   "metadata": {
    "scrolled": true
   },
   "outputs": [
    {
     "data": {
      "text/html": [
       "<div>\n",
       "<style scoped>\n",
       "    .dataframe tbody tr th:only-of-type {\n",
       "        vertical-align: middle;\n",
       "    }\n",
       "\n",
       "    .dataframe tbody tr th {\n",
       "        vertical-align: top;\n",
       "    }\n",
       "\n",
       "    .dataframe thead th {\n",
       "        text-align: right;\n",
       "    }\n",
       "</style>\n",
       "<table border=\"1\" class=\"dataframe\">\n",
       "  <thead>\n",
       "    <tr style=\"text-align: right;\">\n",
       "      <th></th>\n",
       "      <th>author</th>\n",
       "      <th>created_utc</th>\n",
       "      <th>id</th>\n",
       "      <th>is_self</th>\n",
       "      <th>name</th>\n",
       "      <th>number_comments</th>\n",
       "      <th>permalink</th>\n",
       "      <th>score</th>\n",
       "      <th>text</th>\n",
       "      <th>subreddit</th>\n",
       "      <th>title</th>\n",
       "      <th>number_ups</th>\n",
       "      <th>upvote_ratio</th>\n",
       "      <th>url</th>\n",
       "      <th>domain</th>\n",
       "      <th>comments_by_id</th>\n",
       "    </tr>\n",
       "  </thead>\n",
       "  <tbody>\n",
       "    <tr>\n",
       "      <th>0</th>\n",
       "      <td>rossmoody</td>\n",
       "      <td>1347918772.0</td>\n",
       "      <td>101m5w</td>\n",
       "      <td>False</td>\n",
       "      <td>t3_101m5w</td>\n",
       "      <td>0</td>\n",
       "      <td>/r/QuantifiedSelf/comments/101m5w/moodpanda_mo...</td>\n",
       "      <td>1</td>\n",
       "      <td></td>\n",
       "      <td>QuantifiedSelf</td>\n",
       "      <td>Moodpanda mood logger blog</td>\n",
       "      <td>1</td>\n",
       "      <td>1.0</td>\n",
       "      <td>http://moodpanda.tumblr.com/</td>\n",
       "      <td>moodpanda.tumblr.com</td>\n",
       "      <td>{}</td>\n",
       "    </tr>\n",
       "    <tr>\n",
       "      <th>1</th>\n",
       "      <td>robweedn</td>\n",
       "      <td>1348770055.0</td>\n",
       "      <td>10kp8t</td>\n",
       "      <td>False</td>\n",
       "      <td>t3_10kp8t</td>\n",
       "      <td>2</td>\n",
       "      <td>/r/QuantifiedSelf/comments/10kp8t/notch_launch...</td>\n",
       "      <td>4</td>\n",
       "      <td></td>\n",
       "      <td>QuantifiedSelf</td>\n",
       "      <td>Notch launches a cool new way to visualize you...</td>\n",
       "      <td>4</td>\n",
       "      <td>0.76</td>\n",
       "      <td>http://techcrunch.com/2012/09/27/with-fitbit-a...</td>\n",
       "      <td>techcrunch.com</td>\n",
       "      <td>{'t1_c6eaf17': Comment(id='c6eaf17'), 't1_c7um...</td>\n",
       "    </tr>\n",
       "  </tbody>\n",
       "</table>\n",
       "</div>"
      ],
      "text/plain": [
       "      author   created_utc      id is_self       name number_comments  \\\n",
       "0  rossmoody  1347918772.0  101m5w   False  t3_101m5w               0   \n",
       "1   robweedn  1348770055.0  10kp8t   False  t3_10kp8t               2   \n",
       "\n",
       "                                           permalink score text  \\\n",
       "0  /r/QuantifiedSelf/comments/101m5w/moodpanda_mo...     1        \n",
       "1  /r/QuantifiedSelf/comments/10kp8t/notch_launch...     4        \n",
       "\n",
       "        subreddit                                              title  \\\n",
       "0  QuantifiedSelf                         Moodpanda mood logger blog   \n",
       "1  QuantifiedSelf  Notch launches a cool new way to visualize you...   \n",
       "\n",
       "  number_ups upvote_ratio                                                url  \\\n",
       "0          1          1.0                       http://moodpanda.tumblr.com/   \n",
       "1          4         0.76  http://techcrunch.com/2012/09/27/with-fitbit-a...   \n",
       "\n",
       "                 domain                                     comments_by_id  \n",
       "0  moodpanda.tumblr.com                                                 {}  \n",
       "1        techcrunch.com  {'t1_c6eaf17': Comment(id='c6eaf17'), 't1_c7um...  "
      ]
     },
     "execution_count": 9,
     "metadata": {},
     "output_type": "execute_result"
    }
   ],
   "source": [
    "# Renaming columns.\n",
    "subreddit_df.rename(columns = {\n",
    "    0  : 'author',\n",
    "    1  : 'created_utc',\n",
    "    2  : 'id',\n",
    "    3  : 'is_self',\n",
    "    4  : 'name',\n",
    "    5  : 'number_comments',\n",
    "    6  : 'permalink',\n",
    "    7  : 'score',\n",
    "    8  : 'text',\n",
    "    9  : 'subreddit',\n",
    "    10 : 'title',\n",
    "    11 : 'number_ups',\n",
    "    12 : 'upvote_ratio',\n",
    "    13 : 'url',\n",
    "    14 : 'domain',\n",
    "    15 : 'comments_by_id' \n",
    "    \n",
    "}, inplace = True)\n",
    "subreddit_df.head(2)"
   ]
  },
  {
   "cell_type": "code",
   "execution_count": 10,
   "metadata": {},
   "outputs": [
    {
     "data": {
      "text/plain": [
       "author              object\n",
       "created_utc        float64\n",
       "id                  object\n",
       "is_self             object\n",
       "name                object\n",
       "number_comments      int64\n",
       "permalink           object\n",
       "score                int64\n",
       "text                object\n",
       "subreddit           object\n",
       "title               object\n",
       "number_ups           int64\n",
       "upvote_ratio       float64\n",
       "url                 object\n",
       "domain              object\n",
       "comments_by_id      object\n",
       "dtype: object"
      ]
     },
     "execution_count": 10,
     "metadata": {},
     "output_type": "execute_result"
    }
   ],
   "source": [
    "# Changing specified columns to numeric datatype.\n",
    "to_num = [\n",
    "    'created_utc',\n",
    "    'number_comments',\n",
    "    'score',\n",
    "    'number_ups',\n",
    "    'upvote_ratio'\n",
    "]\n",
    "for column in to_num:\n",
    "    subreddit_df[column] = pd.to_numeric(subreddit_df[column])\n",
    "    \n",
    "subreddit_df.dtypes"
   ]
  },
  {
   "cell_type": "code",
   "execution_count": 11,
   "metadata": {
    "scrolled": true
   },
   "outputs": [
    {
     "data": {
      "text/html": [
       "<div>\n",
       "<style scoped>\n",
       "    .dataframe tbody tr th:only-of-type {\n",
       "        vertical-align: middle;\n",
       "    }\n",
       "\n",
       "    .dataframe tbody tr th {\n",
       "        vertical-align: top;\n",
       "    }\n",
       "\n",
       "    .dataframe thead th {\n",
       "        text-align: right;\n",
       "    }\n",
       "</style>\n",
       "<table border=\"1\" class=\"dataframe\">\n",
       "  <thead>\n",
       "    <tr style=\"text-align: right;\">\n",
       "      <th></th>\n",
       "      <th>author</th>\n",
       "      <th>created_utc</th>\n",
       "      <th>id</th>\n",
       "      <th>is_self</th>\n",
       "      <th>name</th>\n",
       "      <th>number_comments</th>\n",
       "      <th>permalink</th>\n",
       "      <th>score</th>\n",
       "      <th>text</th>\n",
       "      <th>subreddit</th>\n",
       "      <th>title</th>\n",
       "      <th>number_ups</th>\n",
       "      <th>upvote_ratio</th>\n",
       "      <th>url</th>\n",
       "      <th>domain</th>\n",
       "      <th>comments_by_id</th>\n",
       "    </tr>\n",
       "  </thead>\n",
       "  <tbody>\n",
       "    <tr>\n",
       "      <th>1392</th>\n",
       "      <td>fergienz</td>\n",
       "      <td>1.557962e+09</td>\n",
       "      <td>bp560o</td>\n",
       "      <td>True</td>\n",
       "      <td>t3_bp560o</td>\n",
       "      <td>1</td>\n",
       "      <td>/r/QuantifiedSelf/comments/bp560o/40_deep_slee...</td>\n",
       "      <td>3</td>\n",
       "      <td>I'm trying to find someone who is using Qualia...</td>\n",
       "      <td>QuantifiedSelf</td>\n",
       "      <td>40% Deep sleep score - Is it just me? Any Qual...</td>\n",
       "      <td>3</td>\n",
       "      <td>0.81</td>\n",
       "      <td>https://www.reddit.com/r/QuantifiedSelf/commen...</td>\n",
       "      <td>self.QuantifiedSelf</td>\n",
       "      <td>{'t1_enpejss': Comment(id='enpejss')}</td>\n",
       "    </tr>\n",
       "    <tr>\n",
       "      <th>1391</th>\n",
       "      <td>ran88dom99</td>\n",
       "      <td>1.557941e+09</td>\n",
       "      <td>bp0prn</td>\n",
       "      <td>True</td>\n",
       "      <td>t3_bp0prn</td>\n",
       "      <td>2</td>\n",
       "      <td>/r/QuantifiedSelf/comments/bp0prn/best_nutriti...</td>\n",
       "      <td>5</td>\n",
       "      <td>Most food tracking apps have the ability to re...</td>\n",
       "      <td>QuantifiedSelf</td>\n",
       "      <td>Best nutrition tracking apps for advanced QS</td>\n",
       "      <td>5</td>\n",
       "      <td>1.00</td>\n",
       "      <td>https://www.reddit.com/r/QuantifiedSelf/commen...</td>\n",
       "      <td>self.QuantifiedSelf</td>\n",
       "      <td>{'t1_enpg8qm': Comment(id='enpg8qm'), 't1_enpj...</td>\n",
       "    </tr>\n",
       "  </tbody>\n",
       "</table>\n",
       "</div>"
      ],
      "text/plain": [
       "          author   created_utc      id is_self       name  number_comments  \\\n",
       "1392    fergienz  1.557962e+09  bp560o    True  t3_bp560o                1   \n",
       "1391  ran88dom99  1.557941e+09  bp0prn    True  t3_bp0prn                2   \n",
       "\n",
       "                                              permalink  score  \\\n",
       "1392  /r/QuantifiedSelf/comments/bp560o/40_deep_slee...      3   \n",
       "1391  /r/QuantifiedSelf/comments/bp0prn/best_nutriti...      5   \n",
       "\n",
       "                                                   text       subreddit  \\\n",
       "1392  I'm trying to find someone who is using Qualia...  QuantifiedSelf   \n",
       "1391  Most food tracking apps have the ability to re...  QuantifiedSelf   \n",
       "\n",
       "                                                  title  number_ups  \\\n",
       "1392  40% Deep sleep score - Is it just me? Any Qual...           3   \n",
       "1391       Best nutrition tracking apps for advanced QS           5   \n",
       "\n",
       "      upvote_ratio                                                url  \\\n",
       "1392          0.81  https://www.reddit.com/r/QuantifiedSelf/commen...   \n",
       "1391          1.00  https://www.reddit.com/r/QuantifiedSelf/commen...   \n",
       "\n",
       "                   domain                                     comments_by_id  \n",
       "1392  self.QuantifiedSelf              {'t1_enpejss': Comment(id='enpejss')}  \n",
       "1391  self.QuantifiedSelf  {'t1_enpg8qm': Comment(id='enpg8qm'), 't1_enpj...  "
      ]
     },
     "execution_count": 11,
     "metadata": {},
     "output_type": "execute_result"
    }
   ],
   "source": [
    "# Sorting dataframe by time post was created.\n",
    "subreddit_df = subreddit_df.sort_values('created_utc', ascending = False)\n",
    "subreddit_df.head(2)"
   ]
  },
  {
   "cell_type": "code",
   "execution_count": 12,
   "metadata": {},
   "outputs": [
    {
     "data": {
      "text/html": [
       "<div>\n",
       "<style scoped>\n",
       "    .dataframe tbody tr th:only-of-type {\n",
       "        vertical-align: middle;\n",
       "    }\n",
       "\n",
       "    .dataframe tbody tr th {\n",
       "        vertical-align: top;\n",
       "    }\n",
       "\n",
       "    .dataframe thead th {\n",
       "        text-align: right;\n",
       "    }\n",
       "</style>\n",
       "<table border=\"1\" class=\"dataframe\">\n",
       "  <thead>\n",
       "    <tr style=\"text-align: right;\">\n",
       "      <th></th>\n",
       "      <th>index</th>\n",
       "      <th>author</th>\n",
       "      <th>created_utc</th>\n",
       "      <th>id</th>\n",
       "      <th>is_self</th>\n",
       "      <th>name</th>\n",
       "      <th>number_comments</th>\n",
       "      <th>permalink</th>\n",
       "      <th>score</th>\n",
       "      <th>text</th>\n",
       "      <th>subreddit</th>\n",
       "      <th>title</th>\n",
       "      <th>number_ups</th>\n",
       "      <th>upvote_ratio</th>\n",
       "      <th>url</th>\n",
       "      <th>domain</th>\n",
       "      <th>comments_by_id</th>\n",
       "    </tr>\n",
       "  </thead>\n",
       "  <tbody>\n",
       "    <tr>\n",
       "      <th>0</th>\n",
       "      <td>1392</td>\n",
       "      <td>fergienz</td>\n",
       "      <td>1.557962e+09</td>\n",
       "      <td>bp560o</td>\n",
       "      <td>True</td>\n",
       "      <td>t3_bp560o</td>\n",
       "      <td>1</td>\n",
       "      <td>/r/QuantifiedSelf/comments/bp560o/40_deep_slee...</td>\n",
       "      <td>3</td>\n",
       "      <td>I'm trying to find someone who is using Qualia...</td>\n",
       "      <td>QuantifiedSelf</td>\n",
       "      <td>40% Deep sleep score - Is it just me? Any Qual...</td>\n",
       "      <td>3</td>\n",
       "      <td>0.81</td>\n",
       "      <td>https://www.reddit.com/r/QuantifiedSelf/commen...</td>\n",
       "      <td>self.QuantifiedSelf</td>\n",
       "      <td>{'t1_enpejss': Comment(id='enpejss')}</td>\n",
       "    </tr>\n",
       "    <tr>\n",
       "      <th>1</th>\n",
       "      <td>1391</td>\n",
       "      <td>ran88dom99</td>\n",
       "      <td>1.557941e+09</td>\n",
       "      <td>bp0prn</td>\n",
       "      <td>True</td>\n",
       "      <td>t3_bp0prn</td>\n",
       "      <td>2</td>\n",
       "      <td>/r/QuantifiedSelf/comments/bp0prn/best_nutriti...</td>\n",
       "      <td>5</td>\n",
       "      <td>Most food tracking apps have the ability to re...</td>\n",
       "      <td>QuantifiedSelf</td>\n",
       "      <td>Best nutrition tracking apps for advanced QS</td>\n",
       "      <td>5</td>\n",
       "      <td>1.00</td>\n",
       "      <td>https://www.reddit.com/r/QuantifiedSelf/commen...</td>\n",
       "      <td>self.QuantifiedSelf</td>\n",
       "      <td>{'t1_enpg8qm': Comment(id='enpg8qm'), 't1_enpj...</td>\n",
       "    </tr>\n",
       "  </tbody>\n",
       "</table>\n",
       "</div>"
      ],
      "text/plain": [
       "   index      author   created_utc      id is_self       name  \\\n",
       "0   1392    fergienz  1.557962e+09  bp560o    True  t3_bp560o   \n",
       "1   1391  ran88dom99  1.557941e+09  bp0prn    True  t3_bp0prn   \n",
       "\n",
       "   number_comments                                          permalink  score  \\\n",
       "0                1  /r/QuantifiedSelf/comments/bp560o/40_deep_slee...      3   \n",
       "1                2  /r/QuantifiedSelf/comments/bp0prn/best_nutriti...      5   \n",
       "\n",
       "                                                text       subreddit  \\\n",
       "0  I'm trying to find someone who is using Qualia...  QuantifiedSelf   \n",
       "1  Most food tracking apps have the ability to re...  QuantifiedSelf   \n",
       "\n",
       "                                               title  number_ups  \\\n",
       "0  40% Deep sleep score - Is it just me? Any Qual...           3   \n",
       "1       Best nutrition tracking apps for advanced QS           5   \n",
       "\n",
       "   upvote_ratio                                                url  \\\n",
       "0          0.81  https://www.reddit.com/r/QuantifiedSelf/commen...   \n",
       "1          1.00  https://www.reddit.com/r/QuantifiedSelf/commen...   \n",
       "\n",
       "                domain                                     comments_by_id  \n",
       "0  self.QuantifiedSelf              {'t1_enpejss': Comment(id='enpejss')}  \n",
       "1  self.QuantifiedSelf  {'t1_enpg8qm': Comment(id='enpg8qm'), 't1_enpj...  "
      ]
     },
     "execution_count": 12,
     "metadata": {},
     "output_type": "execute_result"
    }
   ],
   "source": [
    "# Resetting index.\n",
    "# https://pandas.pydata.org/pandas-docs/version/0.23/generated/pandas.DataFrame.reset_index.html\n",
    "subreddit_df.reset_index(inplace = True)\n",
    "subreddit_df.head(2)"
   ]
  },
  {
   "cell_type": "code",
   "execution_count": 13,
   "metadata": {},
   "outputs": [
    {
     "name": "stdout",
     "output_type": "stream",
     "text": [
      "There are 0 duplicate submissions.\n"
     ]
    }
   ],
   "source": [
    "# Checking for duplicates.\n",
    "print(\"There are {} duplicate submissions.\".format(subreddit_df['id'].duplicated().sum()))"
   ]
  },
  {
   "cell_type": "markdown",
   "metadata": {},
   "source": [
    "#### Storing submissions dataframe."
   ]
  },
  {
   "cell_type": "code",
   "execution_count": 14,
   "metadata": {},
   "outputs": [],
   "source": [
    "subreddit_df.to_csv(\"./data/raw_subreddit_submissions.csv\", index = False)"
   ]
  },
  {
   "cell_type": "markdown",
   "metadata": {},
   "source": [
    "#### Extracting more granular data from submissions stored in `comments_from_reddit`."
   ]
  },
  {
   "cell_type": "code",
   "execution_count": 15,
   "metadata": {},
   "outputs": [],
   "source": [
    "# Lists containing data from \"comments_from_reddit\"\n",
    "cmt_authors = []\n",
    "cmt_bodies = []\n",
    "cmt_created_utcs = []\n",
    "cmt_ids = []\n",
    "cmt_is_submitter_bools = []\n",
    "cmt_link_ids = []\n",
    "cmt_parent_ids = []\n",
    "cmt_permalinks = []\n",
    "cmt_scores = []\n",
    "cmt_submissions = []\n",
    "cmt_subreddits = []\n",
    "cmt_subreddit_ids = []\n",
    "\n",
    "# Subtracting information from \"posts_from_reddit\" to store in dataframe.\n",
    "for comment in comments_from_reddit:\n",
    "    cmt_authors.append(comment.author)\n",
    "    cmt_bodies.append(comment.body)\n",
    "    cmt_created_utcs.append(comment.created_utc)\n",
    "    cmt_ids.append(comment.id)\n",
    "    cmt_is_submitter_bools.append(comment.is_submitter)\n",
    "    cmt_link_ids.append(comment.link_id)\n",
    "    cmt_parent_ids.append(comment.parent_id)\n",
    "    cmt_permalinks.append(comment.permalink)\n",
    "    cmt_scores.append(comment.score)\n",
    "    cmt_submissions.append(comment.submission)\n",
    "    cmt_subreddits.append(comment.subreddit)\n",
    "    cmt_subreddit_ids.append(comment.subreddit_id)"
   ]
  },
  {
   "cell_type": "markdown",
   "metadata": {},
   "source": [
    "#### Storing comments data in a dataframe."
   ]
  },
  {
   "cell_type": "code",
   "execution_count": 16,
   "metadata": {
    "scrolled": true
   },
   "outputs": [
    {
     "name": "stdout",
     "output_type": "stream",
     "text": [
      "Dataframe has 3483 rows and 12 columns.\n"
     ]
    },
    {
     "data": {
      "text/html": [
       "<div>\n",
       "<style scoped>\n",
       "    .dataframe tbody tr th:only-of-type {\n",
       "        vertical-align: middle;\n",
       "    }\n",
       "\n",
       "    .dataframe tbody tr th {\n",
       "        vertical-align: top;\n",
       "    }\n",
       "\n",
       "    .dataframe thead th {\n",
       "        text-align: right;\n",
       "    }\n",
       "</style>\n",
       "<table border=\"1\" class=\"dataframe\">\n",
       "  <thead>\n",
       "    <tr style=\"text-align: right;\">\n",
       "      <th></th>\n",
       "      <th>0</th>\n",
       "      <th>1</th>\n",
       "      <th>2</th>\n",
       "      <th>3</th>\n",
       "      <th>4</th>\n",
       "      <th>5</th>\n",
       "      <th>6</th>\n",
       "      <th>7</th>\n",
       "      <th>8</th>\n",
       "      <th>9</th>\n",
       "      <th>10</th>\n",
       "      <th>11</th>\n",
       "    </tr>\n",
       "  </thead>\n",
       "  <tbody>\n",
       "    <tr>\n",
       "      <th>0</th>\n",
       "      <td>robweedn</td>\n",
       "      <td>ADFA</td>\n",
       "      <td>1348770091.0</td>\n",
       "      <td>c6eaf17</td>\n",
       "      <td>True</td>\n",
       "      <td>t3_10kp8t</td>\n",
       "      <td>t3_10kp8t</td>\n",
       "      <td>/r/QuantifiedSelf/comments/10kp8t/notch_launch...</td>\n",
       "      <td>1</td>\n",
       "      <td>10kp8t</td>\n",
       "      <td>QuantifiedSelf</td>\n",
       "      <td>t5_2sivw</td>\n",
       "    </tr>\n",
       "    <tr>\n",
       "      <th>1</th>\n",
       "      <td>None</td>\n",
       "      <td>Personally, I find these smart pedometers pret...</td>\n",
       "      <td>1357849157.0</td>\n",
       "      <td>c7um88v</td>\n",
       "      <td>False</td>\n",
       "      <td>t3_10kp8t</td>\n",
       "      <td>t3_10kp8t</td>\n",
       "      <td>/r/QuantifiedSelf/comments/10kp8t/notch_launch...</td>\n",
       "      <td>1</td>\n",
       "      <td>10kp8t</td>\n",
       "      <td>QuantifiedSelf</td>\n",
       "      <td>t5_2sivw</td>\n",
       "    </tr>\n",
       "  </tbody>\n",
       "</table>\n",
       "</div>"
      ],
      "text/plain": [
       "         0                                                  1             2   \\\n",
       "0  robweedn                                               ADFA  1348770091.0   \n",
       "1      None  Personally, I find these smart pedometers pret...  1357849157.0   \n",
       "\n",
       "        3      4          5          6   \\\n",
       "0  c6eaf17   True  t3_10kp8t  t3_10kp8t   \n",
       "1  c7um88v  False  t3_10kp8t  t3_10kp8t   \n",
       "\n",
       "                                                  7  8       9   \\\n",
       "0  /r/QuantifiedSelf/comments/10kp8t/notch_launch...  1  10kp8t   \n",
       "1  /r/QuantifiedSelf/comments/10kp8t/notch_launch...  1  10kp8t   \n",
       "\n",
       "               10        11  \n",
       "0  QuantifiedSelf  t5_2sivw  \n",
       "1  QuantifiedSelf  t5_2sivw  "
      ]
     },
     "execution_count": 16,
     "metadata": {},
     "output_type": "execute_result"
    }
   ],
   "source": [
    "cmt_lsts = [\n",
    "    cmt_authors,\n",
    "    cmt_bodies,\n",
    "    cmt_created_utcs,\n",
    "    cmt_ids,\n",
    "    cmt_is_submitter_bools,\n",
    "    cmt_link_ids,\n",
    "    cmt_parent_ids,\n",
    "    cmt_permalinks,\n",
    "    cmt_scores,\n",
    "    cmt_submissions,\n",
    "    cmt_subreddits,\n",
    "    cmt_subreddit_ids,\n",
    "]\n",
    "\n",
    "new_cmt_lsts = []\n",
    "for cmt_lst in cmt_lsts :\n",
    "    new_cmt_lsts.append([str(i) for i in cmt_lst])\n",
    "\n",
    "comments_df = pd.DataFrame(new_cmt_lsts).T\n",
    "print('Dataframe has {} rows and {} columns.'.format(comments_df.shape[0], comments_df.shape[1]))\n",
    "comments_df.head(2)"
   ]
  },
  {
   "cell_type": "markdown",
   "metadata": {},
   "source": [
    "#### Formatting dataframe of subreddit comments."
   ]
  },
  {
   "cell_type": "code",
   "execution_count": 17,
   "metadata": {},
   "outputs": [
    {
     "data": {
      "text/html": [
       "<div>\n",
       "<style scoped>\n",
       "    .dataframe tbody tr th:only-of-type {\n",
       "        vertical-align: middle;\n",
       "    }\n",
       "\n",
       "    .dataframe tbody tr th {\n",
       "        vertical-align: top;\n",
       "    }\n",
       "\n",
       "    .dataframe thead th {\n",
       "        text-align: right;\n",
       "    }\n",
       "</style>\n",
       "<table border=\"1\" class=\"dataframe\">\n",
       "  <thead>\n",
       "    <tr style=\"text-align: right;\">\n",
       "      <th></th>\n",
       "      <th>comment_author</th>\n",
       "      <th>comment_text</th>\n",
       "      <th>comment_created_utc</th>\n",
       "      <th>comment_id</th>\n",
       "      <th>comment_is_submitter</th>\n",
       "      <th>comment_link_id</th>\n",
       "      <th>comment_parent_id</th>\n",
       "      <th>comment_permalink</th>\n",
       "      <th>comment_score</th>\n",
       "      <th>id</th>\n",
       "      <th>comment_subreddit</th>\n",
       "      <th>comment_subreddit_id</th>\n",
       "    </tr>\n",
       "  </thead>\n",
       "  <tbody>\n",
       "    <tr>\n",
       "      <th>0</th>\n",
       "      <td>robweedn</td>\n",
       "      <td>ADFA</td>\n",
       "      <td>1348770091.0</td>\n",
       "      <td>c6eaf17</td>\n",
       "      <td>True</td>\n",
       "      <td>t3_10kp8t</td>\n",
       "      <td>t3_10kp8t</td>\n",
       "      <td>/r/QuantifiedSelf/comments/10kp8t/notch_launch...</td>\n",
       "      <td>1</td>\n",
       "      <td>10kp8t</td>\n",
       "      <td>QuantifiedSelf</td>\n",
       "      <td>t5_2sivw</td>\n",
       "    </tr>\n",
       "    <tr>\n",
       "      <th>1</th>\n",
       "      <td>None</td>\n",
       "      <td>Personally, I find these smart pedometers pret...</td>\n",
       "      <td>1357849157.0</td>\n",
       "      <td>c7um88v</td>\n",
       "      <td>False</td>\n",
       "      <td>t3_10kp8t</td>\n",
       "      <td>t3_10kp8t</td>\n",
       "      <td>/r/QuantifiedSelf/comments/10kp8t/notch_launch...</td>\n",
       "      <td>1</td>\n",
       "      <td>10kp8t</td>\n",
       "      <td>QuantifiedSelf</td>\n",
       "      <td>t5_2sivw</td>\n",
       "    </tr>\n",
       "  </tbody>\n",
       "</table>\n",
       "</div>"
      ],
      "text/plain": [
       "  comment_author                                       comment_text  \\\n",
       "0       robweedn                                               ADFA   \n",
       "1           None  Personally, I find these smart pedometers pret...   \n",
       "\n",
       "  comment_created_utc comment_id comment_is_submitter comment_link_id  \\\n",
       "0        1348770091.0    c6eaf17                 True       t3_10kp8t   \n",
       "1        1357849157.0    c7um88v                False       t3_10kp8t   \n",
       "\n",
       "  comment_parent_id                                  comment_permalink  \\\n",
       "0         t3_10kp8t  /r/QuantifiedSelf/comments/10kp8t/notch_launch...   \n",
       "1         t3_10kp8t  /r/QuantifiedSelf/comments/10kp8t/notch_launch...   \n",
       "\n",
       "  comment_score      id comment_subreddit comment_subreddit_id  \n",
       "0             1  10kp8t    QuantifiedSelf             t5_2sivw  \n",
       "1             1  10kp8t    QuantifiedSelf             t5_2sivw  "
      ]
     },
     "execution_count": 17,
     "metadata": {},
     "output_type": "execute_result"
    }
   ],
   "source": [
    "# Renaming columns.\n",
    "comments_df.rename(columns = {\n",
    "    0  : 'comment_author',\n",
    "    1  : 'comment_text',\n",
    "    2  : 'comment_created_utc',\n",
    "    3  : 'comment_id',\n",
    "    4  : 'comment_is_submitter',\n",
    "    5  : 'comment_link_id',\n",
    "    6  : 'comment_parent_id',\n",
    "    7  : 'comment_permalink',\n",
    "    8  : 'comment_score',\n",
    "    9  : 'id',\n",
    "    10 : 'comment_subreddit',\n",
    "    11 : 'comment_subreddit_id',\n",
    "    \n",
    "}, inplace = True)\n",
    "comments_df.head(2)"
   ]
  },
  {
   "cell_type": "code",
   "execution_count": 18,
   "metadata": {},
   "outputs": [
    {
     "name": "stdout",
     "output_type": "stream",
     "text": [
      "There are 0 duplicate comments.\n"
     ]
    }
   ],
   "source": [
    "# Checking for duplicates.\n",
    "print(\"There are {} duplicate comments.\".format(comments_df['comment_id'].duplicated().sum()))"
   ]
  },
  {
   "cell_type": "code",
   "execution_count": 19,
   "metadata": {
    "scrolled": true
   },
   "outputs": [
    {
     "data": {
      "text/plain": [
       "comment_author           object\n",
       "comment_text             object\n",
       "comment_created_utc     float64\n",
       "comment_id               object\n",
       "comment_is_submitter     object\n",
       "comment_link_id          object\n",
       "comment_parent_id        object\n",
       "comment_permalink        object\n",
       "comment_score             int64\n",
       "id                       object\n",
       "comment_subreddit        object\n",
       "comment_subreddit_id     object\n",
       "dtype: object"
      ]
     },
     "execution_count": 19,
     "metadata": {},
     "output_type": "execute_result"
    }
   ],
   "source": [
    "# Changing specified columns to numeric datatype.\n",
    "to_num_cmt = [\n",
    "    'comment_created_utc',\n",
    "    'comment_score',\n",
    "]\n",
    "for column in to_num_cmt:\n",
    "    comments_df[column] = pd.to_numeric(comments_df[column])\n",
    "    \n",
    "comments_df.dtypes"
   ]
  },
  {
   "cell_type": "markdown",
   "metadata": {},
   "source": [
    "#### Storing comments dataframe."
   ]
  },
  {
   "cell_type": "code",
   "execution_count": 20,
   "metadata": {},
   "outputs": [],
   "source": [
    "subreddit_df.to_csv(\"./data/raw_subreddit_comments.csv\", index = False)"
   ]
  },
  {
   "cell_type": "markdown",
   "metadata": {},
   "source": [
    "#### Checking size of both dataframes."
   ]
  },
  {
   "cell_type": "code",
   "execution_count": 21,
   "metadata": {
    "scrolled": true
   },
   "outputs": [
    {
     "name": "stdout",
     "output_type": "stream",
     "text": [
      "\"subreddit_df\" has 1403 rows and 17 columns.\n",
      "\"comments_df\" has 3483 rows and 12 columns.\n"
     ]
    }
   ],
   "source": [
    "print('\"subreddit_df\" has {} rows and {} columns.'.format(subreddit_df.shape[0], subreddit_df.shape[1]))\n",
    "print('\"comments_df\" has {} rows and {} columns.'.format(comments_df.shape[0], comments_df.shape[1]))"
   ]
  },
  {
   "cell_type": "code",
   "execution_count": 22,
   "metadata": {
    "scrolled": true
   },
   "outputs": [
    {
     "name": "stdout",
     "output_type": "stream",
     "text": [
      "Checking how many empty string values in text column of \"subreddit_df\" ...\n",
      "752\n"
     ]
    }
   ],
   "source": [
    "# Check null values in \"subreddit_df\" text column.\n",
    "print('Checking how many empty string values in text column of \"subreddit_df\" ...\\n{}'.format(subreddit_df[['text']][subreddit_df['text'] == ''].shape[0]))"
   ]
  },
  {
   "cell_type": "code",
   "execution_count": 25,
   "metadata": {
    "scrolled": true
   },
   "outputs": [
    {
     "name": "stdout",
     "output_type": "stream",
     "text": [
      "Checking how many empty string values in text column of \"comments_df\" ...\n",
      "0\n"
     ]
    }
   ],
   "source": [
    "# Check null values in \"comments_df\" text column.\n",
    "print('Checking how many empty string values in text column of \"comments_df\" ...\\n{}'.format(comments_df[['comment_text']][comments_df['comment_text'] == ''].shape[0]))"
   ]
  },
  {
   "cell_type": "markdown",
   "metadata": {},
   "source": [
    "#### Adding text from `comments_df` to text from `subreddit_df`."
   ]
  },
  {
   "cell_type": "code",
   "execution_count": 26,
   "metadata": {
    "scrolled": true
   },
   "outputs": [
    {
     "data": {
      "text/html": [
       "<div>\n",
       "<style scoped>\n",
       "    .dataframe tbody tr th:only-of-type {\n",
       "        vertical-align: middle;\n",
       "    }\n",
       "\n",
       "    .dataframe tbody tr th {\n",
       "        vertical-align: top;\n",
       "    }\n",
       "\n",
       "    .dataframe thead th {\n",
       "        text-align: right;\n",
       "    }\n",
       "</style>\n",
       "<table border=\"1\" class=\"dataframe\">\n",
       "  <thead>\n",
       "    <tr style=\"text-align: right;\">\n",
       "      <th></th>\n",
       "      <th>index</th>\n",
       "      <th>author</th>\n",
       "      <th>created_utc</th>\n",
       "      <th>id</th>\n",
       "      <th>is_self</th>\n",
       "      <th>name</th>\n",
       "      <th>number_comments</th>\n",
       "      <th>permalink</th>\n",
       "      <th>score</th>\n",
       "      <th>text</th>\n",
       "      <th>subreddit</th>\n",
       "      <th>title</th>\n",
       "      <th>number_ups</th>\n",
       "      <th>upvote_ratio</th>\n",
       "      <th>url</th>\n",
       "      <th>domain</th>\n",
       "      <th>comments_by_id</th>\n",
       "    </tr>\n",
       "  </thead>\n",
       "  <tbody>\n",
       "    <tr>\n",
       "      <th>0</th>\n",
       "      <td>1392</td>\n",
       "      <td>fergienz</td>\n",
       "      <td>1.557962e+09</td>\n",
       "      <td>bp560o</td>\n",
       "      <td>True</td>\n",
       "      <td>t3_bp560o</td>\n",
       "      <td>1</td>\n",
       "      <td>/r/QuantifiedSelf/comments/bp560o/40_deep_slee...</td>\n",
       "      <td>3</td>\n",
       "      <td>I'm trying to find someone who is using Qualia...</td>\n",
       "      <td>QuantifiedSelf</td>\n",
       "      <td>40% Deep sleep score - Is it just me? Any Qual...</td>\n",
       "      <td>3</td>\n",
       "      <td>0.81</td>\n",
       "      <td>https://www.reddit.com/r/QuantifiedSelf/commen...</td>\n",
       "      <td>self.QuantifiedSelf</td>\n",
       "      <td>{'t1_enpejss': Comment(id='enpejss')}</td>\n",
       "    </tr>\n",
       "    <tr>\n",
       "      <th>1</th>\n",
       "      <td>1391</td>\n",
       "      <td>ran88dom99</td>\n",
       "      <td>1.557941e+09</td>\n",
       "      <td>bp0prn</td>\n",
       "      <td>True</td>\n",
       "      <td>t3_bp0prn</td>\n",
       "      <td>2</td>\n",
       "      <td>/r/QuantifiedSelf/comments/bp0prn/best_nutriti...</td>\n",
       "      <td>5</td>\n",
       "      <td>Most food tracking apps have the ability to re...</td>\n",
       "      <td>QuantifiedSelf</td>\n",
       "      <td>Best nutrition tracking apps for advanced QS</td>\n",
       "      <td>5</td>\n",
       "      <td>1.00</td>\n",
       "      <td>https://www.reddit.com/r/QuantifiedSelf/commen...</td>\n",
       "      <td>self.QuantifiedSelf</td>\n",
       "      <td>{'t1_enpg8qm': Comment(id='enpg8qm'), 't1_enpj...</td>\n",
       "    </tr>\n",
       "  </tbody>\n",
       "</table>\n",
       "</div>"
      ],
      "text/plain": [
       "   index      author   created_utc      id is_self       name  \\\n",
       "0   1392    fergienz  1.557962e+09  bp560o    True  t3_bp560o   \n",
       "1   1391  ran88dom99  1.557941e+09  bp0prn    True  t3_bp0prn   \n",
       "\n",
       "   number_comments                                          permalink  score  \\\n",
       "0                1  /r/QuantifiedSelf/comments/bp560o/40_deep_slee...      3   \n",
       "1                2  /r/QuantifiedSelf/comments/bp0prn/best_nutriti...      5   \n",
       "\n",
       "                                                text       subreddit  \\\n",
       "0  I'm trying to find someone who is using Qualia...  QuantifiedSelf   \n",
       "1  Most food tracking apps have the ability to re...  QuantifiedSelf   \n",
       "\n",
       "                                               title  number_ups  \\\n",
       "0  40% Deep sleep score - Is it just me? Any Qual...           3   \n",
       "1       Best nutrition tracking apps for advanced QS           5   \n",
       "\n",
       "   upvote_ratio                                                url  \\\n",
       "0          0.81  https://www.reddit.com/r/QuantifiedSelf/commen...   \n",
       "1          1.00  https://www.reddit.com/r/QuantifiedSelf/commen...   \n",
       "\n",
       "                domain                                     comments_by_id  \n",
       "0  self.QuantifiedSelf              {'t1_enpejss': Comment(id='enpejss')}  \n",
       "1  self.QuantifiedSelf  {'t1_enpg8qm': Comment(id='enpg8qm'), 't1_enpj...  "
      ]
     },
     "execution_count": 26,
     "metadata": {},
     "output_type": "execute_result"
    }
   ],
   "source": [
    "id_value = None\n",
    "\n",
    "for index, row in subreddit_df.iterrows():\n",
    "    comment_string = ''\n",
    "    for c_index, c_row in comments_df[comments_df.id == row.id].iterrows():\n",
    "        comment_string += \"\\n\"\n",
    "        comment_string += c_row['comment_text']\n",
    "        comment_string += \"\\n\"\n",
    "    subreddit_df.loc[index,'text'] += comment_string.strip()\n",
    "subreddit_df.head(2)"
   ]
  },
  {
   "cell_type": "markdown",
   "metadata": {},
   "source": [
    "#### Adding text from `title` column in `subreddit_df` to `text` column of same dataframe."
   ]
  },
  {
   "cell_type": "code",
   "execution_count": 27,
   "metadata": {
    "scrolled": true
   },
   "outputs": [
    {
     "name": "stdout",
     "output_type": "stream",
     "text": [
      "Checking how many empty string values in title column of \"subreddit_df\" ...\n",
      "430\n"
     ]
    }
   ],
   "source": [
    "# Check null values in \"subreddit_df\" title column.\n",
    "print('Checking how many empty string values in title column of \"subreddit_df\" ...\\n{}'.format(subreddit_df[['title']][subreddit_df['text'] == ''].shape[0]))"
   ]
  },
  {
   "cell_type": "code",
   "execution_count": 28,
   "metadata": {},
   "outputs": [],
   "source": [
    "for index, row in subreddit_df.iterrows():\n",
    "    title_to_add = ''\n",
    "    title_to_add += \" \"\n",
    "    title_to_add += row['title']\n",
    "    title_to_add += \" \"\n",
    "    subreddit_df.loc[index,'text'] += title_to_add   "
   ]
  },
  {
   "cell_type": "markdown",
   "metadata": {},
   "source": [
    "#### Storing changed `subreddit_df`."
   ]
  },
  {
   "cell_type": "code",
   "execution_count": 30,
   "metadata": {
    "scrolled": true
   },
   "outputs": [
    {
     "name": "stdout",
     "output_type": "stream",
     "text": [
      "Checking how many empty string values in text column of subreddit_df ...\n",
      "0\n"
     ]
    }
   ],
   "source": [
    "# Check null values in \"subreddit_df\" after adding comments and titles.\n",
    "print('Checking how many empty string values in text column of subreddit_df ...\\n{}'.format(subreddit_df[['text']][subreddit_df['text'] == ''].shape[0]))"
   ]
  },
  {
   "cell_type": "code",
   "execution_count": 31,
   "metadata": {},
   "outputs": [],
   "source": [
    "subreddit_df.to_csv('./data/raw_combined_posts.csv')"
   ]
  }
 ],
 "metadata": {
  "kernelspec": {
   "display_name": "Python 3",
   "language": "python",
   "name": "python3"
  },
  "language_info": {
   "codemirror_mode": {
    "name": "ipython",
    "version": 3
   },
   "file_extension": ".py",
   "mimetype": "text/x-python",
   "name": "python",
   "nbconvert_exporter": "python",
   "pygments_lexer": "ipython3",
   "version": "3.6.8"
  },
  "varInspector": {
   "cols": {
    "lenName": 16,
    "lenType": 16,
    "lenVar": 40
   },
   "kernels_config": {
    "python": {
     "delete_cmd_postfix": "",
     "delete_cmd_prefix": "del ",
     "library": "var_list.py",
     "varRefreshCmd": "print(var_dic_list())"
    },
    "r": {
     "delete_cmd_postfix": ") ",
     "delete_cmd_prefix": "rm(",
     "library": "var_list.r",
     "varRefreshCmd": "cat(var_dic_list()) "
    }
   },
   "types_to_exclude": [
    "module",
    "function",
    "builtin_function_or_method",
    "instance",
    "_Feature"
   ],
   "window_display": false
  }
 },
 "nbformat": 4,
 "nbformat_minor": 2
}
