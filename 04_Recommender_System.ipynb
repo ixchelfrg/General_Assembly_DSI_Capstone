{
 "cells": [
  {
   "cell_type": "markdown",
   "metadata": {},
   "source": [
    "#### Imports"
   ]
  },
  {
   "cell_type": "code",
   "execution_count": 1,
   "metadata": {},
   "outputs": [],
   "source": [
    "import pandas as pd\n",
    "import spacy\n",
    "\n",
    "# Create the nlp object\n",
    "nlp = spacy.load('en_core_web_lg')"
   ]
  },
  {
   "cell_type": "code",
   "execution_count": 2,
   "metadata": {},
   "outputs": [],
   "source": [
    "import warnings\n",
    "warnings.filterwarnings('ignore')"
   ]
  },
  {
   "cell_type": "markdown",
   "metadata": {},
   "source": [
    "#### Reading in Data"
   ]
  },
  {
   "cell_type": "code",
   "execution_count": 3,
   "metadata": {
    "scrolled": true
   },
   "outputs": [
    {
     "name": "stdout",
     "output_type": "stream",
     "text": [
      "Dataframe of raw data has 1403 rows and 1 columns.\n"
     ]
    },
    {
     "data": {
      "text/html": [
       "<div>\n",
       "<style scoped>\n",
       "    .dataframe tbody tr th:only-of-type {\n",
       "        vertical-align: middle;\n",
       "    }\n",
       "\n",
       "    .dataframe tbody tr th {\n",
       "        vertical-align: top;\n",
       "    }\n",
       "\n",
       "    .dataframe thead th {\n",
       "        text-align: right;\n",
       "    }\n",
       "</style>\n",
       "<table border=\"1\" class=\"dataframe\">\n",
       "  <thead>\n",
       "    <tr style=\"text-align: right;\">\n",
       "      <th></th>\n",
       "      <th>url</th>\n",
       "    </tr>\n",
       "  </thead>\n",
       "  <tbody>\n",
       "    <tr>\n",
       "      <th>0</th>\n",
       "      <td>https://www.reddit.com/r/QuantifiedSelf/commen...</td>\n",
       "    </tr>\n",
       "    <tr>\n",
       "      <th>1</th>\n",
       "      <td>https://www.reddit.com/r/QuantifiedSelf/commen...</td>\n",
       "    </tr>\n",
       "    <tr>\n",
       "      <th>2</th>\n",
       "      <td>https://matiroy.com/writings/How-I-audio-video...</td>\n",
       "    </tr>\n",
       "    <tr>\n",
       "      <th>3</th>\n",
       "      <td>https://matiroy.com/writings/Should-I-record-m...</td>\n",
       "    </tr>\n",
       "    <tr>\n",
       "      <th>4</th>\n",
       "      <td>https://www.reddit.com/r/QuantifiedSelf/commen...</td>\n",
       "    </tr>\n",
       "  </tbody>\n",
       "</table>\n",
       "</div>"
      ],
      "text/plain": [
       "                                                 url\n",
       "0  https://www.reddit.com/r/QuantifiedSelf/commen...\n",
       "1  https://www.reddit.com/r/QuantifiedSelf/commen...\n",
       "2  https://matiroy.com/writings/How-I-audio-video...\n",
       "3  https://matiroy.com/writings/Should-I-record-m...\n",
       "4  https://www.reddit.com/r/QuantifiedSelf/commen..."
      ]
     },
     "execution_count": 3,
     "metadata": {},
     "output_type": "execute_result"
    }
   ],
   "source": [
    "original_df = pd.read_csv('./data/raw_combined_posts.csv')[['url']]\n",
    "print('Dataframe of raw data has {} rows and {} columns.'.format(original_df.shape[0],\n",
    "                                                                 original_df.shape[1]))\n",
    "original_df.head()"
   ]
  },
  {
   "cell_type": "code",
   "execution_count": 4,
   "metadata": {},
   "outputs": [
    {
     "name": "stdout",
     "output_type": "stream",
     "text": [
      "Checking for null values...\n",
      "url    0\n",
      "dtype: int64\n",
      "\n",
      "Checking how many empty string values in url column of dataframe...\n",
      "0\n"
     ]
    }
   ],
   "source": [
    "print(\"Checking for null values...\\n{}\\n\".format(original_df.isnull().sum()))\n",
    "print('Checking how many empty string values in url column of dataframe...\\n{}'.format(original_df['url'][original_df['url'] == \"\"].shape[0]))"
   ]
  },
  {
   "cell_type": "code",
   "execution_count": 5,
   "metadata": {
    "scrolled": true
   },
   "outputs": [
    {
     "name": "stdout",
     "output_type": "stream",
     "text": [
      "Dataframe has 1403 rows and 1 columns.\n"
     ]
    },
    {
     "data": {
      "text/html": [
       "<div>\n",
       "<style scoped>\n",
       "    .dataframe tbody tr th:only-of-type {\n",
       "        vertical-align: middle;\n",
       "    }\n",
       "\n",
       "    .dataframe tbody tr th {\n",
       "        vertical-align: top;\n",
       "    }\n",
       "\n",
       "    .dataframe thead th {\n",
       "        text-align: right;\n",
       "    }\n",
       "</style>\n",
       "<table border=\"1\" class=\"dataframe\">\n",
       "  <thead>\n",
       "    <tr style=\"text-align: right;\">\n",
       "      <th></th>\n",
       "      <th>text</th>\n",
       "    </tr>\n",
       "  </thead>\n",
       "  <tbody>\n",
       "    <tr>\n",
       "      <th>0</th>\n",
       "      <td>try find Qualia Mind sleep Oura ring mind shar...</td>\n",
       "    </tr>\n",
       "    <tr>\n",
       "      <th>1</th>\n",
       "      <td>food app ability retrieve nutritional info tex...</td>\n",
       "    </tr>\n",
       "    <tr>\n",
       "      <th>2</th>\n",
       "      <td>audiovideo record life capture bit obtrusive t...</td>\n",
       "    </tr>\n",
       "    <tr>\n",
       "      <th>3</th>\n",
       "      <td>major privacy concern little actual benefit pr...</td>\n",
       "    </tr>\n",
       "    <tr>\n",
       "      <th>4</th>\n",
       "      <td>introductory stat know study design affect con...</td>\n",
       "    </tr>\n",
       "  </tbody>\n",
       "</table>\n",
       "</div>"
      ],
      "text/plain": [
       "                                                text\n",
       "0  try find Qualia Mind sleep Oura ring mind shar...\n",
       "1  food app ability retrieve nutritional info tex...\n",
       "2  audiovideo record life capture bit obtrusive t...\n",
       "3  major privacy concern little actual benefit pr...\n",
       "4  introductory stat know study design affect con..."
      ]
     },
     "execution_count": 5,
     "metadata": {},
     "output_type": "execute_result"
    }
   ],
   "source": [
    "df = pd.read_csv('./data/cleaned_text.csv')\n",
    "print('Dataframe has {} rows and {} columns.'.format(df.shape[0], \n",
    "                                                     df.shape[1]))\n",
    "df.head()"
   ]
  },
  {
   "cell_type": "code",
   "execution_count": 6,
   "metadata": {
    "scrolled": false
   },
   "outputs": [
    {
     "name": "stdout",
     "output_type": "stream",
     "text": [
      "Checking for null values...\n",
      "text    4\n",
      "dtype: int64\n",
      "\n",
      "Checking how many empty string values in text column of dataframe...\n",
      "0\n"
     ]
    }
   ],
   "source": [
    "print(\"Checking for null values...\\n{}\\n\".format(df.isnull().sum()))\n",
    "print('Checking how many empty string values in text column of dataframe...\\n{}'.format(df['text'][df['text'] == \"\"].shape[0]))"
   ]
  },
  {
   "cell_type": "code",
   "execution_count": 7,
   "metadata": {
    "scrolled": true
   },
   "outputs": [
    {
     "name": "stdout",
     "output_type": "stream",
     "text": [
      "Checking for null values...\n",
      "text    0\n",
      "dtype: int64\n",
      "\n",
      "Checking how many empty string values in text column of dataframe...\n",
      "0\n"
     ]
    }
   ],
   "source": [
    "df = df.fillna(\"supercalifragilisticexpialidocious\")\n",
    "print(\"Checking for null values...\\n{}\\n\".format(df.isnull().sum()))\n",
    "print('Checking how many empty string values in text column of dataframe...\\n{}'.format(df['text'][df['text'] == \"\"].shape[0]))"
   ]
  },
  {
   "cell_type": "code",
   "execution_count": 8,
   "metadata": {
    "code_folding": []
   },
   "outputs": [],
   "source": [
    "def top_posts(df):\n",
    "    \n",
    "    index_to_use = input(\"Describe what you are interested in quantifying. \")\n",
    "    print('\\nSearching {} posts...\\n'.format(df.shape[0]))\n",
    "    \n",
    "    main_doc = nlp(index_to_use)\n",
    "    \n",
    "    lst_similarities = []\n",
    "    for number in range(df.shape[0]):\n",
    "        doc = nlp(df['text'][number])\n",
    "        similarity = (main_doc.similarity(doc), number)\n",
    "        if similarity[0] > 0:\n",
    "            lst_similarities.append(similarity)\n",
    "\n",
    "    lst_similarities.sort(reverse = True)\n",
    "    index_lst = []\n",
    "    similarity_score = []\n",
    "    for similarity_tuple in lst_similarities[:5]:\n",
    "        index_lst.append(similarity_tuple[1])\n",
    "        similarity_score.append(similarity_tuple[0])\n",
    "    \n",
    "    for index, score in zip(index_lst, similarity_score ):\n",
    "        print(\"Recommended url:\\n\", original_df['url'][index], \"\\nSimilarity Score: \", score)\n",
    "        \n",
    "    return"
   ]
  },
  {
   "cell_type": "code",
   "execution_count": 11,
   "metadata": {
    "scrolled": true
   },
   "outputs": [
    {
     "name": "stdout",
     "output_type": "stream",
     "text": [
      "Describe what you are interested in quantifying. sleep tracking\n",
      "\n",
      "Searching 1403 posts...\n",
      "\n",
      "Recommended url:\n",
      " http://myquantifiedbrain.com/ \n",
      "Similarity Score:  0.8278694614280998\n",
      "Recommended url:\n",
      " http://www.mobihealthnews.com/content/dont-sleep-it-time-now-digital-tools-improve-sleep \n",
      "Similarity Score:  0.8101235994360837\n",
      "Recommended url:\n",
      " https://www.reddit.com/r/QuantifiedSelf/comments/acn7pr/any_recommendations_for_sleep_trackers_that_allow/ \n",
      "Similarity Score:  0.7768527479302243\n",
      "Recommended url:\n",
      " https://www.reddit.com/r/QuantifiedSelf/comments/26cnw8/if_i_want_to_track_sleep_should_i_go_for_a_psg_or/ \n",
      "Similarity Score:  0.7683254834695593\n",
      "Recommended url:\n",
      " https://hello.is/ \n",
      "Similarity Score:  0.7660957715228757\n"
     ]
    }
   ],
   "source": [
    "top_posts(df)"
   ]
  }
 ],
 "metadata": {
  "kernelspec": {
   "display_name": "Python 3",
   "language": "python",
   "name": "python3"
  },
  "language_info": {
   "codemirror_mode": {
    "name": "ipython",
    "version": 3
   },
   "file_extension": ".py",
   "mimetype": "text/x-python",
   "name": "python",
   "nbconvert_exporter": "python",
   "pygments_lexer": "ipython3",
   "version": "3.6.8"
  },
  "varInspector": {
   "cols": {
    "lenName": 16,
    "lenType": 16,
    "lenVar": 40
   },
   "kernels_config": {
    "python": {
     "delete_cmd_postfix": "",
     "delete_cmd_prefix": "del ",
     "library": "var_list.py",
     "varRefreshCmd": "print(var_dic_list())"
    },
    "r": {
     "delete_cmd_postfix": ") ",
     "delete_cmd_prefix": "rm(",
     "library": "var_list.r",
     "varRefreshCmd": "cat(var_dic_list()) "
    }
   },
   "types_to_exclude": [
    "module",
    "function",
    "builtin_function_or_method",
    "instance",
    "_Feature"
   ],
   "window_display": false
  }
 },
 "nbformat": 4,
 "nbformat_minor": 2
}
